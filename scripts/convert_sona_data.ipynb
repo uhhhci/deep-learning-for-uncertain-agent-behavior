{
 "cells": [
  {
   "cell_type": "code",
   "execution_count": null,
   "metadata": {},
   "outputs": [],
   "source": [
    "import os, json\n",
    "import numpy as np\n",
    "import pandas as pd"
   ]
  },
  {
   "cell_type": "code",
   "execution_count": null,
   "metadata": {},
   "outputs": [],
   "source": [
    "WORKER_ID = \"WorkerId\"\n",
    "MTURK_URL = \"https://mturk-uncertainty.s3.amazonaws.com/\"\n",
    "CERTAINTY_COLUMNS = [\"video_file\"]\n",
    "VIDEO_URL_COLUMNS = [\"certainty\"]"
   ]
  },
  {
   "cell_type": "code",
   "execution_count": null,
   "metadata": {},
   "outputs": [],
   "source": [
    "full_data = pd.read_csv(\"goldStandard.csv\", index_col=False)\n",
    "full_data"
   ]
  },
  {
   "cell_type": "code",
   "execution_count": null,
   "metadata": {},
   "outputs": [],
   "source": [
    "for index, row in full_data.iterrows():\n",
    "    print(row[\"video\"])\n",
    "    video_name = row[\"video\"].replace(MTURK_URL, \"\")\n",
    "    with open(os.path.join(\"data\", \"JSON-copy\", video_name.replace('mp4', 'json')), \"r\") as file:\n",
    "        data = json.load(file)\n",
    "        data['annotator'] = \"Susanne\"\n",
    "        data['annotator_id'] = \"Susanne\"\n",
    "        data['confidence'] = row[\"confidence\"]\n",
    "        # data['confidence'] = (row[certainty_column_name] - annotator_low_range[annoator_name]) / (annotator_upper_range[annoator_name] - annotator_low_range[annoator_name])\n",
    "\n",
    "    with open(os.path.join(\"data\", \"GOLD\", video_name.replace('mp4', 'json')), \"w\") as file:\n",
    "        json.dump(data, file)"
   ]
  }
 ],
 "metadata": {
  "kernelspec": {
   "display_name": "distributed-torch",
   "language": "python",
   "name": "python3"
  },
  "language_info": {
   "codemirror_mode": {
    "name": "ipython",
    "version": 3
   },
   "file_extension": ".py",
   "mimetype": "text/x-python",
   "name": "python",
   "nbconvert_exporter": "python",
   "pygments_lexer": "ipython3",
   "version": "3.11.7"
  }
 },
 "nbformat": 4,
 "nbformat_minor": 2
}
